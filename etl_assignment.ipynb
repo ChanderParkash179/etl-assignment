{
  "cells": [
    {
      "cell_type": "code",
      "execution_count": null,
      "metadata": {
        "colab": {
          "base_uri": "https://localhost:8080/"
        },
        "id": "Gbaw7mFpcbSb",
        "outputId": "3e4b26f1-cf9a-48aa-f692-0b3e98007f26"
      },
      "outputs": [],
      "source": [
        "# Install packages from requirements.txt\n",
        "%pip install -r requirements.txt"
      ]
    },
    {
      "cell_type": "code",
      "execution_count": 40,
      "metadata": {
        "id": "dnHtLlbxBN0y"
      },
      "outputs": [],
      "source": [
        "# import modules\n",
        "\n",
        "import os\n",
        "import json\n",
        "import shutil\n",
        "import requests\n",
        "import glob\n",
        "import openpyxl\n",
        "\n",
        "import numpy as np\n",
        "import pandas as pd\n",
        "\n",
        "from pymongo import MongoClient\n",
        "from kaggle.api.kaggle_api_extended import KaggleApi"
      ]
    },
    {
      "cell_type": "code",
      "execution_count": 3,
      "metadata": {
        "colab": {
          "base_uri": "https://localhost:8080/"
        },
        "id": "zNyPo8aTOiig",
        "outputId": "cc0598c3-c8a5-497b-bdf8-28b7ad80c9b8"
      },
      "outputs": [
        {
          "name": "stdout",
          "output_type": "stream",
          "text": [
            "Downloading from https://corgis-edu.github.io/corgis/datasets/csv/hospitals/hospitals.csv...\n",
            "File saved to ./data/csv\\hospitals.csv\n"
          ]
        }
      ],
      "source": [
        "# 1 - CSV (.csv)\n",
        "\n",
        "# Define URL and target file path\n",
        "url = \"https://corgis-edu.github.io/corgis/datasets/csv/hospitals/hospitals.csv\"\n",
        "save_dir = \"./data/csv\"\n",
        "file_name = \"hospitals.csv\"\n",
        "file_path = os.path.join(save_dir, file_name)\n",
        "\n",
        "# Create directory if it doesn't exist\n",
        "os.makedirs(save_dir, exist_ok=True)\n",
        "\n",
        "# Check if file exists, delete if it does\n",
        "if os.path.exists(file_path):\n",
        "    print(f\"File {file_path} already exists. Deleting it...\")\n",
        "    os.remove(file_path)\n",
        "\n",
        "# Download the file\n",
        "print(f\"Downloading from {url}...\")\n",
        "response = requests.get(url)\n",
        "response.raise_for_status()  # Raise an error for bad status\n",
        "\n",
        "# Save the file\n",
        "with open(file_path, 'wb') as f:\n",
        "    f.write(response.content)\n",
        "\n",
        "print(f\"File saved to {file_path}\")"
      ]
    },
    {
      "cell_type": "code",
      "execution_count": 4,
      "metadata": {
        "colab": {
          "base_uri": "https://localhost:8080/"
        },
        "id": "I7pPEYQiO-Tw",
        "outputId": "cf3f5457-5d97-408e-fe6d-61435be0e652"
      },
      "outputs": [
        {
          "name": "stdout",
          "output_type": "stream",
          "text": [
            "Downloading from https://www.cms.gov/files/document/2021-reporting-cycle-teaching-hospital-listx.xlsx...\n",
            "File downloaded and saved to ./data/excel\\hospitals.xlsx\n"
          ]
        }
      ],
      "source": [
        "# 2 - Excel (.xlsx)\n",
        "\n",
        "# Direct file URL extracted from the Google redirect link\n",
        "url = \"https://www.cms.gov/files/document/2021-reporting-cycle-teaching-hospital-listx.xlsx\"\n",
        "save_dir = \"./data/excel\"\n",
        "file_name = \"hospitals.xlsx\"\n",
        "file_path = os.path.join(save_dir, file_name)\n",
        "\n",
        "# Create the directory if it doesn't exist\n",
        "os.makedirs(save_dir, exist_ok=True)\n",
        "\n",
        "# If file exists, delete it\n",
        "if os.path.exists(file_path):\n",
        "    print(f\"File already exists at {file_path}. Deleting...\")\n",
        "    os.remove(file_path)\n",
        "\n",
        "# Download the file\n",
        "print(f\"Downloading from {url}...\")\n",
        "response = requests.get(url)\n",
        "response.raise_for_status()\n",
        "\n",
        "# Save the file\n",
        "with open(file_path, 'wb') as f:\n",
        "    f.write(response.content)\n",
        "\n",
        "print(f\"File downloaded and saved to {file_path}\")"
      ]
    },
    {
      "cell_type": "code",
      "execution_count": 5,
      "metadata": {
        "colab": {
          "base_uri": "https://localhost:8080/"
        },
        "id": "nc_2sEGzOoS1",
        "outputId": "a66be9e7-33e9-4136-a46a-fa863b0d128b"
      },
      "outputs": [
        {
          "name": "stdout",
          "output_type": "stream",
          "text": [
            "Downloading from https://raw.githubusercontent.com/dariusk/corpora/master/data/medicine/hospitals.json...\n",
            "File downloaded and saved to ./data/json\\hospitals.json\n"
          ]
        }
      ],
      "source": [
        "# 3 - JSON (.json)\n",
        "\n",
        "# URL of the JSON file\n",
        "url = \"https://raw.githubusercontent.com/dariusk/corpora/master/data/medicine/hospitals.json\"\n",
        "save_dir = \"./data/json\"\n",
        "file_name = \"hospitals.json\"\n",
        "file_path = os.path.join(save_dir, file_name)\n",
        "\n",
        "# Create directory if it doesn't exist\n",
        "os.makedirs(save_dir, exist_ok=True)\n",
        "\n",
        "# Delete existing file if it exists\n",
        "if os.path.exists(file_path):\n",
        "    print(f\"File already exists at {file_path}. Deleting...\")\n",
        "    os.remove(file_path)\n",
        "\n",
        "# Download the file\n",
        "print(f\"Downloading from {url}...\")\n",
        "response = requests.get(url)\n",
        "response.raise_for_status()\n",
        "\n",
        "# Save the file\n",
        "with open(file_path, 'wb') as f:\n",
        "    f.write(response.content)\n",
        "\n",
        "print(f\"File downloaded and saved to {file_path}\")\n"
      ]
    },
    {
      "cell_type": "code",
      "execution_count": 7,
      "metadata": {
        "colab": {
          "base_uri": "https://localhost:8080/"
        },
        "id": "JzW7n8wFQCsB",
        "outputId": "574f417b-47b5-49a3-c480-bfcfbcfe61c3"
      },
      "outputs": [
        {
          "name": "stdout",
          "output_type": "stream",
          "text": [
            "Created directory: ./data/mongo\n",
            "Downloading CSV from https://data.cms.gov/sites/default/files/2024-10/b220a101-219f-47d5-acfe-1685596bc727/CostReport_2022_Final.csv...\n",
            "Download complete: ./data/mongo/hospitals.csv\n",
            "Dropped existing collection: hospital\n",
            "Reading CSV: ./data/mongo/hospitals.csv\n",
            "Inserting 6064 records into MongoDB...\n",
            "Data inserted successfully.\n"
          ]
        }
      ],
      "source": [
        "# 4 - Database (SQL/NOSQL) *NoSQL [MongoDB]\n",
        "\n",
        "!python script.py"
      ]
    },
    {
      "cell_type": "code",
      "execution_count": null,
      "metadata": {},
      "outputs": [
        {
          "name": "stdout",
          "output_type": "stream",
          "text": [
            "✅ kaggle.json moved successfully.\n",
            "✅ Kaggle API authenticated successfully.\n"
          ]
        }
      ],
      "source": [
        "# 5 - API/Kaggle \n",
        " \n",
        "# ✅ Update this to where kaggle.json is actually located\n",
        "kaggle_json_src = \"./config/kaggle.json\"\n",
        "\n",
        "# Target directory and destination path\n",
        "kaggle_config_dir = \"C:/Users/User/.kaggle\"  # Recommended location for kaggle.json\n",
        "kaggle_json_dest = os.path.join(kaggle_config_dir, \"kaggle.json\")\n",
        "\n",
        "# Create directory if it doesn't exist\n",
        "os.makedirs(kaggle_config_dir, exist_ok=True)\n",
        "\n",
        "# Move the file if it exists\n",
        "if os.path.exists(kaggle_json_src):\n",
        "    shutil.move(kaggle_json_src, kaggle_json_dest)\n",
        "    print(\"✅ kaggle.json moved successfully.\")\n",
        "else:\n",
        "    raise FileNotFoundError(f\"🚫 File not found: {kaggle_json_src}\")\n",
        "\n",
        "# Set environment variable\n",
        "os.environ['KAGGLE_CONFIG_DIR'] = kaggle_config_dir\n",
        "\n",
        "# Set permissions (may not be strictly necessary on Windows)\n",
        "try:\n",
        "    os.chmod(kaggle_json_dest, 0o600)\n",
        "except PermissionError:\n",
        "    print(\"⚠️ Could not change permissions on Windows (safe to ignore)\")\n",
        "\n",
        "# Now you can proceed to authenticate with Kaggle\n",
        "from kaggle.api.kaggle_api_extended import KaggleApi\n",
        "api = KaggleApi()\n",
        "api.authenticate()\n",
        "print(\"✅ Kaggle API authenticated successfully.\")"
      ]
    },
    {
      "cell_type": "code",
      "execution_count": 22,
      "metadata": {
        "colab": {
          "base_uri": "https://localhost:8080/"
        },
        "id": "tAuINGSqVr9i",
        "outputId": "8555fa53-b723-4eed-eb23-89b83fc53adb"
      },
      "outputs": [
        {
          "name": "stdout",
          "output_type": "stream",
          "text": [
            "Kaggle authentication successful\n",
            "Downloading Kaggle dataset 'thedevastator/hospitals-in-the-united-states-a-comprehensive-d' to './data/kaggle'...\n",
            "Dataset URL: https://www.kaggle.com/datasets/thedevastator/hospitals-in-the-united-states-a-comprehensive-d\n",
            "✅ Dataset download and extraction complete.\n"
          ]
        }
      ],
      "source": [
        "# Set the path where kaggle.json is located (adjust if needed)\n",
        "# If in Colab, upload kaggle.json first and specify its location\n",
        "kaggle_json_path = \"C:/Users/User/.kaggle\"  # Change this if your file is elsewhere\n",
        "\n",
        "# Ensure the Kaggle config directory exists\n",
        "kaggle_config_dir = \"C:/Users/User/.kaggle\" # Default Kaggle config dir in Colab\n",
        "os.makedirs(kaggle_config_dir, exist_ok=True)\n",
        "\n",
        "# Move kaggle.json to the expected location if it's not there\n",
        "if os.path.exists(kaggle_json_path):\n",
        "    os.system(f\"mv {kaggle_json_path} {kaggle_config_dir}/kaggle.json\")\n",
        "    os.system(f\"chmod 600 {kaggle_config_dir}/kaggle.json\")  # Set correct permissions\n",
        "else:\n",
        "    print(\"Please upload kaggle.json to /content/ and rerun this cell\")\n",
        "    raise FileNotFoundError(\"kaggle.json not found at /content/\")\n",
        "\n",
        "# Set environment variable for Kaggle API\n",
        "os.environ['KAGGLE_CONFIG_DIR'] = kaggle_config_dir\n",
        "\n",
        "# Initialize and authenticate API\n",
        "api = KaggleApi()\n",
        "try:\n",
        "    api.authenticate()\n",
        "    print(\"Kaggle authentication successful\")\n",
        "    auth_valid = True\n",
        "except Exception as e:\n",
        "    print(f\"Authentication failed: {str(e)}\")\n",
        "    auth_valid = False\n",
        "\n",
        "# ✅ Download dataset after successful authentication\n",
        "if auth_valid:\n",
        "    dataset_name = \"thedevastator/hospitals-in-the-united-states-a-comprehensive-d\"  # 👉 Replace with your desired dataset name\n",
        "    download_path = \"./data/kaggle\"\n",
        "    os.makedirs(download_path, exist_ok=True)\n",
        "\n",
        "    print(f\"Downloading Kaggle dataset '{dataset_name}' to '{download_path}'...\")\n",
        "    api.dataset_download_files(dataset_name, path=download_path, unzip=True)\n",
        "    print(\"✅ Dataset download and extraction complete.\")"
      ]
    },
    {
      "cell_type": "code",
      "execution_count": 23,
      "metadata": {},
      "outputs": [],
      "source": [
        "# Transforming Data\n",
        "\n",
        "# Target columns\n",
        "TARGET_COLUMNS = ['HOSPITAL_NAME', 'CITY', 'STATE', 'COUNTRY']\n",
        "\n",
        "# Mapping of known column variants\n",
        "COLUMN_MAPPINGS = {\n",
        "    'hospital name': 'HOSPITAL_NAME',\n",
        "    'facility.name': 'HOSPITAL_NAME',\n",
        "    'name': 'HOSPITAL_NAME',\n",
        "    'city': 'CITY',\n",
        "    'facility.city': 'CITY',\n",
        "    'state': 'STATE',\n",
        "    'facility.state': 'STATE',\n",
        "    'state code': 'STATE',\n",
        "    'country': 'COUNTRY',\n",
        "}"
      ]
    },
    {
      "cell_type": "code",
      "execution_count": 24,
      "metadata": {},
      "outputs": [],
      "source": [
        "# Helper to normalize column names\n",
        "def normalize_columns(df):\n",
        "    df.columns = [col.strip().lower() for col in df.columns]\n",
        "    df.rename(columns={col: COLUMN_MAPPINGS[col] for col in df.columns if col in COLUMN_MAPPINGS}, inplace=True)\n",
        "    return df\n",
        "\n",
        "# Collect all rows into this list\n",
        "all_data = []"
      ]
    },
    {
      "cell_type": "code",
      "execution_count": 31,
      "metadata": {},
      "outputs": [],
      "source": [
        "# Step 1: Read all files from /data/*\n",
        "for folder in glob.glob(\"./data/*\"):\n",
        "    for filepath in glob.glob(os.path.join(folder, \"*\")):\n",
        "        try:\n",
        "            ext = os.path.splitext(filepath)[1].lower()\n",
        "            if ext == \".csv\":\n",
        "                df = pd.read_csv(filepath)\n",
        "            elif ext in [\".xls\", \".xlsx\"]:\n",
        "                df = pd.read_excel(filepath)\n",
        "            elif ext == \".json\":\n",
        "                with open(filepath, 'r') as f:\n",
        "                    data = json.load(f)\n",
        "                    if isinstance(data, dict) and 'hospitals' in data:\n",
        "                        # Special case for file 4\n",
        "                        df = pd.DataFrame(data['hospitals'], columns=['HOSPITAL_NAME'])\n",
        "                    else:\n",
        "                        df = pd.json_normalize(data)\n",
        "            else:\n",
        "                continue\n",
        "\n",
        "            df = normalize_columns(df)\n",
        "\n",
        "            # Keep only columns we care about\n",
        "            subset_df = pd.DataFrame()\n",
        "            for col in TARGET_COLUMNS:\n",
        "                if col in df.columns:\n",
        "                    subset_df[col] = df[col]\n",
        "                else:\n",
        "                    subset_df[col] = None\n",
        "\n",
        "            all_data.append(subset_df)\n",
        "\n",
        "        except Exception as e:\n",
        "            print(f\"Error reading {filepath}: {e}\")"
      ]
    },
    {
      "cell_type": "code",
      "execution_count": 32,
      "metadata": {},
      "outputs": [],
      "source": [
        "# Step 2: Combine, clean, and deduplicate\n",
        "combined_df = pd.concat(all_data, ignore_index=True)\n",
        "\n",
        "# Drop rows without hospital name\n",
        "combined_df.dropna(subset=['HOSPITAL_NAME'], inplace=True)\n",
        "\n",
        "# Remove duplicates based on hospital name\n",
        "combined_df.drop_duplicates(subset=['HOSPITAL_NAME'], inplace=True)"
      ]
    },
    {
      "cell_type": "code",
      "execution_count": 34,
      "metadata": {},
      "outputs": [],
      "source": [
        "# Fix this function to accept a single value\n",
        "def infer_country(value):\n",
        "    if pd.notna(value) and str(value).strip():\n",
        "        return value\n",
        "    return 'USA'\n",
        "\n",
        "# Apply it to the column (correctly now)\n",
        "combined_df['COUNTRY'] = combined_df['COUNTRY'].apply(infer_country)\n",
        "\n",
        "# Final cleanup\n",
        "final_df = combined_df[TARGET_COLUMNS].dropna(subset=['CITY', 'STATE'])"
      ]
    },
    {
      "cell_type": "code",
      "execution_count": 36,
      "metadata": {},
      "outputs": [
        {
          "name": "stdout",
          "output_type": "stream",
          "text": [
            "Final output saved to ./output/output.csv\n"
          ]
        }
      ],
      "source": [
        "# Step 3: Write to output.csv\n",
        "\n",
        "# Create directory if it doesn't exist\n",
        "os.makedirs('output', exist_ok=True)\n",
        "\n",
        "# Now save the file\n",
        "output_path = './output/output.csv'\n",
        "final_df.to_csv(output_path, index=False)\n",
        "\n",
        "print(f\"Final output saved to {output_path}\")"
      ]
    },
    {
      "cell_type": "code",
      "execution_count": 41,
      "metadata": {},
      "outputs": [
        {
          "name": "stdout",
          "output_type": "stream",
          "text": [
            "✅ Data successfully loaded into MongoDB collection 'loaded_hospitals.hospitals'\n"
          ]
        }
      ],
      "source": [
        "# Step 4: Load into MongoDB\n",
        "def read_mongo_uri(config_file):\n",
        "    with open(config_file, 'r') as f:\n",
        "        config = json.load(f)\n",
        "    return config['mongo_uri']\n",
        "\n",
        "# Read URI and connect\n",
        "mongo_uri = read_mongo_uri(\"./config/db_config.json\")\n",
        "client = MongoClient(mongo_uri)\n",
        "\n",
        "# Access database and collection\n",
        "db = client['loaded_hospitals']\n",
        "collection = db['hospitals']\n",
        "\n",
        "# Clean existing data\n",
        "collection.delete_many({})\n",
        "\n",
        "# Insert new data\n",
        "collection.insert_many(final_df.to_dict(orient='records'))\n",
        "\n",
        "print(\"✅ Data successfully loaded into MongoDB collection 'loaded_hospitals.hospitals'\")"
      ]
    }
  ],
  "metadata": {
    "colab": {
      "provenance": []
    },
    "kernelspec": {
      "display_name": "Python 3",
      "name": "python3"
    },
    "language_info": {
      "codemirror_mode": {
        "name": "ipython",
        "version": 3
      },
      "file_extension": ".py",
      "mimetype": "text/x-python",
      "name": "python",
      "nbconvert_exporter": "python",
      "pygments_lexer": "ipython3",
      "version": "3.13.2"
    }
  },
  "nbformat": 4,
  "nbformat_minor": 0
}
